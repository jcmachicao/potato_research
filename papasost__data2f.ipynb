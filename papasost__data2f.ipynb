{
  "nbformat": 4,
  "nbformat_minor": 0,
  "metadata": {
    "colab": {
      "name": "papasost__data2f.ipynb",
      "provenance": [],
      "mount_file_id": "156qbpQEbZhbqbUe3nAWqAlU1BnAnrqj4",
      "authorship_tag": "ABX9TyMnVJGhW746vAhGkuhuiDRT",
      "include_colab_link": true
    },
    "kernelspec": {
      "name": "python3",
      "display_name": "Python 3"
    },
    "language_info": {
      "name": "python"
    }
  },
  "cells": [
    {
      "cell_type": "markdown",
      "metadata": {
        "id": "view-in-github",
        "colab_type": "text"
      },
      "source": [
        "<a href=\"https://colab.research.google.com/github/jcmachicao/potato_research/blob/main/papasost__data2f.ipynb\" target=\"_parent\"><img src=\"https://colab.research.google.com/assets/colab-badge.svg\" alt=\"Open In Colab\"/></a>"
      ]
    },
    {
      "cell_type": "code",
      "metadata": {
        "id": "ZIuz0CrLlicQ"
      },
      "source": [
        "import pandas as pd\n",
        "import numpy as np\n",
        "import os\n",
        "import matplotlib.pyplot as plt\n",
        "import sys\n",
        "import time\n",
        "import torch\n",
        "import torch.nn as nn"
      ],
      "execution_count": null,
      "outputs": []
    },
    {
      "cell_type": "code",
      "metadata": {
        "id": "12_Y3jOVfkDn"
      },
      "source": [
        "ruta = 'drive/My Drive/2020 Papers/2021 Papa Sostenible/archivos papa sostenible/experimentos/'\n",
        "ruta_out = 'resultados/'\n",
        "archivo_testing = 'data_escenarios.xlsx'\n",
        "archivo_scaling = 'data4scaling.xlsx'\n",
        "sh_name = 'esc_01'"
      ],
      "execution_count": null,
      "outputs": []
    },
    {
      "cell_type": "markdown",
      "metadata": {
        "id": "eyldY-ZZhlwm"
      },
      "source": [
        "## Carga de Data Testing Cruda"
      ]
    },
    {
      "cell_type": "code",
      "metadata": {
        "id": "GrSCumm9hpeU"
      },
      "source": [
        "data_ts = pd.read_excel(ruta + archivo_testing, sheet_name=sh_name)"
      ],
      "execution_count": null,
      "outputs": []
    },
    {
      "cell_type": "code",
      "metadata": {
        "colab": {
          "base_uri": "https://localhost:8080/"
        },
        "id": "vb7TuAUc8ySs",
        "outputId": "d3d156df-6905-4c10-c263-b6abddc5b705"
      },
      "source": [
        "data_ts.shape"
      ],
      "execution_count": null,
      "outputs": [
        {
          "output_type": "execute_result",
          "data": {
            "text/plain": [
              "(10, 34)"
            ]
          },
          "metadata": {
            "tags": []
          },
          "execution_count": 57
        }
      ]
    },
    {
      "cell_type": "code",
      "metadata": {
        "colab": {
          "base_uri": "https://localhost:8080/"
        },
        "id": "DBOMrG2vRNYb",
        "outputId": "b9a11905-6d04-40fc-e2b1-951367d7b20e"
      },
      "source": [
        "data_sc = pd.read_excel(ruta + archivo_scaling)\n",
        "data_sc.shape"
      ],
      "execution_count": null,
      "outputs": [
        {
          "output_type": "execute_result",
          "data": {
            "text/plain": [
              "(4960, 34)"
            ]
          },
          "metadata": {
            "tags": []
          },
          "execution_count": 58
        }
      ]
    },
    {
      "cell_type": "code",
      "metadata": {
        "id": "UTT0SfDt-E-l"
      },
      "source": [
        "from sklearn.preprocessing import MinMaxScaler\n",
        "scaler = MinMaxScaler()"
      ],
      "execution_count": null,
      "outputs": []
    },
    {
      "cell_type": "code",
      "metadata": {
        "colab": {
          "base_uri": "https://localhost:8080/"
        },
        "id": "bYWeCU7q-MxD",
        "outputId": "60e41049-48f3-4bfd-f6ab-736de6836c13"
      },
      "source": [
        "X = np.array(data_sc)\n",
        "scaler.fit(X)"
      ],
      "execution_count": null,
      "outputs": [
        {
          "output_type": "execute_result",
          "data": {
            "text/plain": [
              "MinMaxScaler(copy=True, feature_range=(0, 1))"
            ]
          },
          "metadata": {
            "tags": []
          },
          "execution_count": 60
        }
      ]
    },
    {
      "cell_type": "code",
      "metadata": {
        "id": "QZqkkRzwRvvb"
      },
      "source": [
        "data_ts_sc = scaler.transform(data_ts)"
      ],
      "execution_count": null,
      "outputs": []
    },
    {
      "cell_type": "code",
      "metadata": {
        "colab": {
          "base_uri": "https://localhost:8080/"
        },
        "id": "FZDQZZGpsVnm",
        "outputId": "d376adb8-d3a4-4e7a-8b26-dc64e4a18ad2"
      },
      "source": [
        "X_np = np.array(data_ts_sc)\n",
        "X_np = X_np.astype(np.float32)\n",
        "X_ts = torch.from_numpy(X_np.astype('float32'))\n",
        "X_ts.shape"
      ],
      "execution_count": null,
      "outputs": [
        {
          "output_type": "execute_result",
          "data": {
            "text/plain": [
              "torch.Size([10, 34])"
            ]
          },
          "metadata": {
            "tags": []
          },
          "execution_count": 62
        }
      ]
    },
    {
      "cell_type": "markdown",
      "metadata": {
        "id": "qpQaIg3AhZhm"
      },
      "source": [
        "## Generación de Dummies"
      ]
    },
    {
      "cell_type": "code",
      "metadata": {
        "id": "SpppG-JehZ22"
      },
      "source": [
        "data_dum = pd.get_dummies(data100, columns=['mes', 'provincia'])"
      ],
      "execution_count": null,
      "outputs": []
    },
    {
      "cell_type": "markdown",
      "metadata": {
        "id": "bmT0bszuhgyG"
      },
      "source": [
        "## Generación de X_ts"
      ]
    },
    {
      "cell_type": "code",
      "metadata": {
        "id": "XvKslEd7gUMO"
      },
      "source": [
        "model = nn.Sequential(\n",
        "  nn.Linear(34, 4960),\n",
        "  nn.ReLU(),\n",
        "  nn.Linear(4960, 512),\n",
        "  nn.ReLU(),\n",
        "  nn.Linear(512, 4),\n",
        "  nn.ReLU(),\n",
        "  nn.Linear(4, 1),\n",
        ")"
      ],
      "execution_count": null,
      "outputs": []
    },
    {
      "cell_type": "code",
      "metadata": {
        "id": "aOIUnvz_tbFK",
        "colab": {
          "base_uri": "https://localhost:8080/"
        },
        "outputId": "044bfacb-159b-44f9-db0e-5d484d815ac4"
      },
      "source": [
        "modelo_load = ruta + 'modelo_recarga.pth'\n",
        "model.load_state_dict(torch.load(modelo_load, map_location=torch.device('cpu')))"
      ],
      "execution_count": null,
      "outputs": [
        {
          "output_type": "execute_result",
          "data": {
            "text/plain": [
              "<All keys matched successfully>"
            ]
          },
          "metadata": {
            "tags": []
          },
          "execution_count": 64
        }
      ]
    },
    {
      "cell_type": "code",
      "metadata": {
        "colab": {
          "base_uri": "https://localhost:8080/"
        },
        "id": "LRdMghj7s2RF",
        "outputId": "1f5ac4f1-3c3e-4b27-cc4b-b6126a3d7112"
      },
      "source": [
        "y_hat_nn_ts = model(X_ts).squeeze().detach().numpy()\n",
        "y_hat_nn_ts.shape"
      ],
      "execution_count": null,
      "outputs": [
        {
          "output_type": "execute_result",
          "data": {
            "text/plain": [
              "(10,)"
            ]
          },
          "metadata": {
            "tags": []
          },
          "execution_count": 65
        }
      ]
    },
    {
      "cell_type": "code",
      "metadata": {
        "colab": {
          "base_uri": "https://localhost:8080/"
        },
        "id": "fgaMd44q9dkl",
        "outputId": "8bebf8ae-e6da-4656-b26a-6b52e9467bdc"
      },
      "source": [
        "y_hat_nn_ts"
      ],
      "execution_count": null,
      "outputs": [
        {
          "output_type": "execute_result",
          "data": {
            "text/plain": [
              "array([0.37507522, 0.54516375, 0.40699846, 0.49845237, 0.33988088,\n",
              "       0.38879722, 0.21905422, 0.21507072, 0.15478617, 0.2776028 ],\n",
              "      dtype=float32)"
            ]
          },
          "metadata": {
            "tags": []
          },
          "execution_count": 66
        }
      ]
    }
  ]
}